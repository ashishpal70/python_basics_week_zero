{
 "cells": [
  {
   "cell_type": "code",
   "execution_count": 1,
   "id": "0c0edaac-6835-421a-a362-6999d83642de",
   "metadata": {},
   "outputs": [],
   "source": [
    "# Variables in python\n",
    "# In python no need to mention data type like other programming languages,it automatically recognized which type of  data is storing.\n",
    "a=1"
   ]
  },
  {
   "cell_type": "code",
   "execution_count": 3,
   "id": "74afdf35-cd91-4c38-a736-94c8e4aed135",
   "metadata": {},
   "outputs": [
    {
     "data": {
      "text/plain": [
       "int"
      ]
     },
     "execution_count": 3,
     "metadata": {},
     "output_type": "execute_result"
    }
   ],
   "source": [
    "type(a)"
   ]
  },
  {
   "cell_type": "code",
   "execution_count": 4,
   "id": "656cb075-2116-419e-9ef3-b14725677ef0",
   "metadata": {},
   "outputs": [],
   "source": [
    "b=\"World\""
   ]
  },
  {
   "cell_type": "code",
   "execution_count": 5,
   "id": "8309de75-f130-4aa2-9267-b62bffa70cc1",
   "metadata": {},
   "outputs": [
    {
     "data": {
      "text/plain": [
       "str"
      ]
     },
     "execution_count": 5,
     "metadata": {},
     "output_type": "execute_result"
    }
   ],
   "source": [
    "type(b)"
   ]
  },
  {
   "cell_type": "code",
   "execution_count": 6,
   "id": "115d0f14-28f3-451e-aee5-9a46d1b9e90b",
   "metadata": {},
   "outputs": [],
   "source": [
    "c=10.290"
   ]
  },
  {
   "cell_type": "code",
   "execution_count": 7,
   "id": "c3680557-7eab-4cf6-b4bb-58df23511932",
   "metadata": {},
   "outputs": [
    {
     "data": {
      "text/plain": [
       "float"
      ]
     },
     "execution_count": 7,
     "metadata": {},
     "output_type": "execute_result"
    }
   ],
   "source": [
    "type(c)"
   ]
  },
  {
   "cell_type": "code",
   "execution_count": 8,
   "id": "61ed7118-1394-4dda-b97c-d0cc7735702e",
   "metadata": {},
   "outputs": [],
   "source": [
    "d=True"
   ]
  },
  {
   "cell_type": "code",
   "execution_count": 9,
   "id": "d2aa4f50-95bd-461c-83b0-2ac8835981d6",
   "metadata": {},
   "outputs": [
    {
     "data": {
      "text/plain": [
       "bool"
      ]
     },
     "execution_count": 9,
     "metadata": {},
     "output_type": "execute_result"
    }
   ],
   "source": [
    "type(d)"
   ]
  },
  {
   "cell_type": "code",
   "execution_count": 11,
   "id": "55e99be3-eafa-4463-bbd2-74c663a74729",
   "metadata": {},
   "outputs": [],
   "source": [
    "f=5+4J"
   ]
  },
  {
   "cell_type": "code",
   "execution_count": 12,
   "id": "defa480c-be91-4e36-b1c5-d5e533227220",
   "metadata": {},
   "outputs": [
    {
     "data": {
      "text/plain": [
       "complex"
      ]
     },
     "execution_count": 12,
     "metadata": {},
     "output_type": "execute_result"
    }
   ],
   "source": [
    "type(f)"
   ]
  },
  {
   "cell_type": "code",
   "execution_count": null,
   "id": "de36e514-f724-4262-8fe6-4c2bf66d2b7e",
   "metadata": {},
   "outputs": [],
   "source": []
  }
 ],
 "metadata": {
  "kernelspec": {
   "display_name": "Python 3 (ipykernel)",
   "language": "python",
   "name": "python3"
  },
  "language_info": {
   "codemirror_mode": {
    "name": "ipython",
    "version": 3
   },
   "file_extension": ".py",
   "mimetype": "text/x-python",
   "name": "python",
   "nbconvert_exporter": "python",
   "pygments_lexer": "ipython3",
   "version": "3.10.8"
  }
 },
 "nbformat": 4,
 "nbformat_minor": 5
}
