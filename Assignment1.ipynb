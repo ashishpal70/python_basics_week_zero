{
 "cells": [
  {
   "cell_type": "code",
   "execution_count": 1,
   "id": "f39818b0-2618-4b88-ab5c-469623e6c871",
   "metadata": {},
   "outputs": [],
   "source": [
    "a='Python'\n",
    "l=[1,2,3,55]\n",
    "f=45.7\n",
    "t=(1,3,5)\n"
   ]
  },
  {
   "cell_type": "code",
   "execution_count": 2,
   "id": "5ce360a8-e7eb-4bce-aa32-cc069017d5a4",
   "metadata": {},
   "outputs": [
    {
     "data": {
      "text/plain": [
       "tuple"
      ]
     },
     "execution_count": 2,
     "metadata": {},
     "output_type": "execute_result"
    }
   ],
   "source": [
    "type(t)"
   ]
  },
  {
   "cell_type": "code",
   "execution_count": 3,
   "id": "79bf3f81-7bea-4336-a1f7-c09727da90e2",
   "metadata": {},
   "outputs": [
    {
     "data": {
      "text/plain": [
       "list"
      ]
     },
     "execution_count": 3,
     "metadata": {},
     "output_type": "execute_result"
    }
   ],
   "source": [
    "type(l)"
   ]
  },
  {
   "cell_type": "code",
   "execution_count": 4,
   "id": "f05de8ec-e174-4852-959a-3e78c21d6388",
   "metadata": {},
   "outputs": [
    {
     "data": {
      "text/plain": [
       "float"
      ]
     },
     "execution_count": 4,
     "metadata": {},
     "output_type": "execute_result"
    }
   ],
   "source": [
    "type(f)"
   ]
  },
  {
   "cell_type": "code",
   "execution_count": 5,
   "id": "dc669d07-79ac-4f10-a66a-94c66b3b4f88",
   "metadata": {},
   "outputs": [
    {
     "data": {
      "text/plain": [
       "str"
      ]
     },
     "execution_count": 5,
     "metadata": {},
     "output_type": "execute_result"
    }
   ],
   "source": [
    "type(a)"
   ]
  },
  {
   "cell_type": "code",
   "execution_count": 8,
   "id": "a5eed115-fd9a-4555-9b86-ce2281491a4c",
   "metadata": {},
   "outputs": [],
   "source": [
    "var1=\"\"\n",
    "var2='[Ds,ml,python]'\n",
    "var3=['DS','ML','Python']\n",
    "var4=1"
   ]
  },
  {
   "cell_type": "code",
   "execution_count": 9,
   "id": "f5c33e64-0bee-47bc-ba0c-52f8c8212edf",
   "metadata": {},
   "outputs": [
    {
     "data": {
      "text/plain": [
       "str"
      ]
     },
     "execution_count": 9,
     "metadata": {},
     "output_type": "execute_result"
    }
   ],
   "source": [
    "type(var1)"
   ]
  },
  {
   "cell_type": "code",
   "execution_count": 10,
   "id": "bd683e37-7ae7-4305-9912-5ff356bb3716",
   "metadata": {},
   "outputs": [
    {
     "data": {
      "text/plain": [
       "str"
      ]
     },
     "execution_count": 10,
     "metadata": {},
     "output_type": "execute_result"
    }
   ],
   "source": [
    "type(var2)"
   ]
  },
  {
   "cell_type": "code",
   "execution_count": 11,
   "id": "cabb9482-fffd-4c59-a46e-6ac4e69bc8d7",
   "metadata": {},
   "outputs": [
    {
     "data": {
      "text/plain": [
       "list"
      ]
     },
     "execution_count": 11,
     "metadata": {},
     "output_type": "execute_result"
    }
   ],
   "source": [
    "type(var3)"
   ]
  },
  {
   "cell_type": "code",
   "execution_count": 12,
   "id": "5b510f81-8713-4be4-b885-a5b12c6267d6",
   "metadata": {},
   "outputs": [
    {
     "data": {
      "text/plain": [
       "int"
      ]
     },
     "execution_count": 12,
     "metadata": {},
     "output_type": "execute_result"
    }
   ],
   "source": [
    "type(var4)"
   ]
  },
  {
   "cell_type": "code",
   "execution_count": 15,
   "id": "55a7615c-e5f4-40e2-b1f7-31e26d798a2b",
   "metadata": {},
   "outputs": [
    {
     "data": {
      "text/plain": [
       "2.0"
      ]
     },
     "execution_count": 15,
     "metadata": {},
     "output_type": "execute_result"
    }
   ],
   "source": [
    "#Division\n",
    "4/2\n"
   ]
  },
  {
   "cell_type": "code",
   "execution_count": 16,
   "id": "2c692aa2-ec53-402d-b7de-846f46943654",
   "metadata": {},
   "outputs": [
    {
     "data": {
      "text/plain": [
       "0"
      ]
     },
     "execution_count": 16,
     "metadata": {},
     "output_type": "execute_result"
    }
   ],
   "source": [
    "# Modulo\n",
    "4%2"
   ]
  },
  {
   "cell_type": "code",
   "execution_count": 17,
   "id": "b62ab3ac-38dc-48c7-9416-1253eec50b1b",
   "metadata": {},
   "outputs": [
    {
     "data": {
      "text/plain": [
       "2"
      ]
     },
     "execution_count": 17,
     "metadata": {},
     "output_type": "execute_result"
    }
   ],
   "source": [
    "#Floor Division\n",
    "4//2"
   ]
  },
  {
   "cell_type": "code",
   "execution_count": 18,
   "id": "28ad75d4-ba9e-43aa-9c9a-d76b0a4ebfdc",
   "metadata": {},
   "outputs": [
    {
     "data": {
      "text/plain": [
       "16"
      ]
     },
     "execution_count": 18,
     "metadata": {},
     "output_type": "execute_result"
    }
   ],
   "source": [
    "# a to the power b\n",
    "4**2"
   ]
  },
  {
   "cell_type": "code",
   "execution_count": 19,
   "id": "b1d9d64f-4cef-4861-9d39-3977f4b3522a",
   "metadata": {},
   "outputs": [
    {
     "name": "stdout",
     "output_type": "stream",
     "text": [
      "<class 'int'>\n",
      "<class 'int'>\n",
      "<class 'int'>\n",
      "<class 'float'>\n",
      "<class 'float'>\n",
      "<class 'float'>\n",
      "<class 'str'>\n",
      "<class 'bool'>\n",
      "<class 'list'>\n",
      "<class 'str'>\n"
     ]
    }
   ],
   "source": [
    "# Create a list of length 10 of your choice containing multiple types of data. Using for loop print the\n",
    "# element and its data type.\n",
    "\n",
    "listofdata=[1,2,3,5.8,9.8,6.8,'python',True,[89,10],'world']\n",
    "for i in listofdata:\n",
    "    print(type(i))"
   ]
  },
  {
   "cell_type": "code",
   "execution_count": null,
   "id": "d172fcfe-153f-43e7-935e-2cc2f67d3843",
   "metadata": {},
   "outputs": [],
   "source": [
    "Q5. Using a while loop, verify if the number A is purely divisible by number B and if so then how many\n",
    "times it can be divisible."
   ]
  },
  {
   "cell_type": "code",
   "execution_count": 7,
   "id": "ee6a8922-dcb5-450a-b383-d07643ad9d63",
   "metadata": {},
   "outputs": [
    {
     "name": "stdin",
     "output_type": "stream",
     "text": [
      " 10\n",
      " 2\n"
     ]
    },
    {
     "name": "stdout",
     "output_type": "stream",
     "text": [
      "A is purely divisible by B, 1 times\n"
     ]
    }
   ],
   "source": [
    "A=int(input())\n",
    "B=int(input())\n",
    "count=0\n",
    "\n",
    "while A%B == 0:\n",
    "    count= count +1\n",
    "    A=A//B\n",
    "      \n",
    "    \n",
    "if count>0 :\n",
    "    print(f\"A is purely divisible by B, {count} times\")\n",
    "     \n",
    "         \n",
    "else:\n",
    "    print(\"A is not purely divisible by B\")\n",
    "    \n",
    "        \n",
    "        \n",
    "         \n",
    "         \n",
    "            \n",
    "        \n",
    "        \n",
    "         \n",
    "        \n",
    "        \n",
    "   \n",
    "    \n"
   ]
  },
  {
   "cell_type": "code",
   "execution_count": null,
   "id": "1ff4027f-94ea-4612-b79f-6ae85bd1ba1d",
   "metadata": {},
   "outputs": [],
   "source": [
    "Q6. Create a list containing 25 int type data. Using for loop and if-else condition print if the element is\n",
    "divisible by 3 or not."
   ]
  },
  {
   "cell_type": "code",
   "execution_count": null,
   "id": "46945287-c74d-49f6-80e6-0cfa8ceb39ef",
   "metadata": {},
   "outputs": [],
   "source": [
    "listData=[1,4,4,3,5,8,65,46,89,33,90,457,2,45,78,97,11,15,27,88,66,90,78,67,34]"
   ]
  },
  {
   "cell_type": "code",
   "execution_count": 6,
   "id": "0a19fd32-72ba-47cf-a5ce-4bd20550b1ac",
   "metadata": {},
   "outputs": [
    {
     "name": "stdout",
     "output_type": "stream",
     "text": [
      "1 is not divisible by 3\n",
      "4 is not divisible by 3\n",
      "4 is not divisible by 3\n",
      "3 is divisible by 3\n",
      "5 is not divisible by 3\n",
      "8 is not divisible by 3\n",
      "65 is not divisible by 3\n",
      "46 is not divisible by 3\n",
      "89 is not divisible by 3\n",
      "33 is divisible by 3\n",
      "90 is divisible by 3\n",
      "457 is not divisible by 3\n",
      "2 is not divisible by 3\n",
      "45 is divisible by 3\n",
      "78 is divisible by 3\n",
      "97 is not divisible by 3\n",
      "11 is not divisible by 3\n",
      "15 is divisible by 3\n",
      "27 is divisible by 3\n",
      "88 is not divisible by 3\n",
      "66 is divisible by 3\n",
      "90 is divisible by 3\n",
      "78 is divisible by 3\n",
      "67 is not divisible by 3\n",
      "34 is not divisible by 3\n"
     ]
    }
   ],
   "source": [
    "for i in listData:\n",
    "    if i%3==0 :\n",
    "        print(f\"{i} is divisible by 3\")\n",
    "    else:\n",
    "        print(f\"{i} is not divisible by 3\")\n",
    "    \n",
    "        "
   ]
  },
  {
   "cell_type": "code",
   "execution_count": null,
   "id": "87f02eb7-b3c5-4b77-9e00-df2461c362fb",
   "metadata": {},
   "outputs": [],
   "source": [
    "Q7. What do you understand about mutable and immutable data types? Give examples for both showing\n",
    "this property."
   ]
  },
  {
   "cell_type": "code",
   "execution_count": 14,
   "id": "32652533-4ceb-4367-86ee-6623f6ae53a5",
   "metadata": {},
   "outputs": [
    {
     "data": {
      "text/plain": [
       "'i'"
      ]
     },
     "execution_count": 14,
     "metadata": {},
     "output_type": "execute_result"
    }
   ],
   "source": [
    "str=\"icecream\"\n",
    "listofdatas=[1,3,5,'world',6.0]\n",
    "# mutable objects are easily modified where as in case of immutable values cannot be modified\n",
    "str[0]\n"
   ]
  },
  {
   "cell_type": "code",
   "execution_count": 15,
   "id": "84f7d11f-0e8e-43a5-87ab-8531a40e5ea8",
   "metadata": {},
   "outputs": [
    {
     "ename": "TypeError",
     "evalue": "'str' object does not support item assignment",
     "output_type": "error",
     "traceback": [
      "\u001b[0;31m---------------------------------------------------------------------------\u001b[0m",
      "\u001b[0;31mTypeError\u001b[0m                                 Traceback (most recent call last)",
      "Cell \u001b[0;32mIn[15], line 1\u001b[0m\n\u001b[0;32m----> 1\u001b[0m \u001b[38;5;28;43mstr\u001b[39;49m\u001b[43m[\u001b[49m\u001b[38;5;241;43m0\u001b[39;49m\u001b[43m]\u001b[49m\u001b[38;5;241m=\u001b[39m\u001b[38;5;124m'\u001b[39m\u001b[38;5;124mj\u001b[39m\u001b[38;5;124m'\u001b[39m\n",
      "\u001b[0;31mTypeError\u001b[0m: 'str' object does not support item assignment"
     ]
    }
   ],
   "source": [
    "str[0]='j'"
   ]
  },
  {
   "cell_type": "code",
   "execution_count": 16,
   "id": "a1253e7e-6c05-4cf1-bc13-5bc18fa58e5c",
   "metadata": {},
   "outputs": [],
   "source": [
    "# so its clear that we cannot modified the value, so string is immutable object"
   ]
  },
  {
   "cell_type": "code",
   "execution_count": 17,
   "id": "ec69c325-b69f-4324-9ebc-dbab0d252193",
   "metadata": {},
   "outputs": [
    {
     "data": {
      "text/plain": [
       "5"
      ]
     },
     "execution_count": 17,
     "metadata": {},
     "output_type": "execute_result"
    }
   ],
   "source": [
    "listofdatas[2]"
   ]
  },
  {
   "cell_type": "code",
   "execution_count": 18,
   "id": "0f6a4f1b-1328-40e4-a847-ca0a28b90def",
   "metadata": {},
   "outputs": [],
   "source": [
    "listofdatas[2]='pure'"
   ]
  },
  {
   "cell_type": "code",
   "execution_count": 19,
   "id": "b8f13034-bd96-4407-a71c-008d3ef3935b",
   "metadata": {},
   "outputs": [
    {
     "data": {
      "text/plain": [
       "[1, 3, 'pure', 'world', 6.0]"
      ]
     },
     "execution_count": 19,
     "metadata": {},
     "output_type": "execute_result"
    }
   ],
   "source": [
    "listofdatas"
   ]
  },
  {
   "cell_type": "code",
   "execution_count": null,
   "id": "88d0a313-e85b-4486-9f9a-9e6fc0454305",
   "metadata": {},
   "outputs": [],
   "source": [
    "# Hence in this case value is easily modified,so list object is mutable "
   ]
  }
 ],
 "metadata": {
  "kernelspec": {
   "display_name": "Python 3 (ipykernel)",
   "language": "python",
   "name": "python3"
  },
  "language_info": {
   "codemirror_mode": {
    "name": "ipython",
    "version": 3
   },
   "file_extension": ".py",
   "mimetype": "text/x-python",
   "name": "python",
   "nbconvert_exporter": "python",
   "pygments_lexer": "ipython3",
   "version": "3.10.8"
  }
 },
 "nbformat": 4,
 "nbformat_minor": 5
}
