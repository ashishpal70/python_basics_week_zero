{
 "cells": [
  {
   "cell_type": "code",
   "execution_count": 1,
   "id": "73e9ac1f-ac9a-4f78-a1d9-596c31f3b324",
   "metadata": {},
   "outputs": [],
   "source": [
    "# Mutable and Immutable object"
   ]
  },
  {
   "cell_type": "code",
   "execution_count": 2,
   "id": "b92a3b8b-7deb-4c3f-a515-9484f4adbb9b",
   "metadata": {},
   "outputs": [],
   "source": [
    "str=\"World\""
   ]
  },
  {
   "cell_type": "code",
   "execution_count": 3,
   "id": "bb44bdfe-d765-42b7-834a-3afc6dc39897",
   "metadata": {},
   "outputs": [
    {
     "data": {
      "text/plain": [
       "'W'"
      ]
     },
     "execution_count": 3,
     "metadata": {},
     "output_type": "execute_result"
    }
   ],
   "source": [
    "str[0]"
   ]
  },
  {
   "cell_type": "code",
   "execution_count": 4,
   "id": "38027f57-078e-4ebc-b11f-df9a0db931d1",
   "metadata": {},
   "outputs": [],
   "source": [
    "list1=[1,2,3,'Alaska',34.5]"
   ]
  },
  {
   "cell_type": "code",
   "execution_count": 5,
   "id": "65f40528-5ef9-44da-9643-6bd21b8d403a",
   "metadata": {},
   "outputs": [
    {
     "data": {
      "text/plain": [
       "list"
      ]
     },
     "execution_count": 5,
     "metadata": {},
     "output_type": "execute_result"
    }
   ],
   "source": [
    "type(list1)"
   ]
  },
  {
   "cell_type": "code",
   "execution_count": 6,
   "id": "d46c948d-82bc-4810-9805-c6a57049dac9",
   "metadata": {},
   "outputs": [
    {
     "data": {
      "text/plain": [
       "34.5"
      ]
     },
     "execution_count": 6,
     "metadata": {},
     "output_type": "execute_result"
    }
   ],
   "source": [
    "list1[4]"
   ]
  },
  {
   "cell_type": "code",
   "execution_count": 7,
   "id": "2b1ed439-8c9b-4be2-9135-7149f80dfde0",
   "metadata": {},
   "outputs": [],
   "source": [
    "list1[2]=\"Delhi\""
   ]
  },
  {
   "cell_type": "code",
   "execution_count": 8,
   "id": "db2e6a75-83c9-44e9-ad9d-3539a303ff9d",
   "metadata": {},
   "outputs": [
    {
     "data": {
      "text/plain": [
       "[1, 2, 'Delhi', 'Alaska', 34.5]"
      ]
     },
     "execution_count": 8,
     "metadata": {},
     "output_type": "execute_result"
    }
   ],
   "source": [
    "list1"
   ]
  },
  {
   "cell_type": "code",
   "execution_count": null,
   "id": "2376c087-a2d9-45f5-8807-eb2b67349b84",
   "metadata": {},
   "outputs": [],
   "source": [
    "#String is immutable and list is mutable object"
   ]
  }
 ],
 "metadata": {
  "kernelspec": {
   "display_name": "Python 3 (ipykernel)",
   "language": "python",
   "name": "python3"
  },
  "language_info": {
   "codemirror_mode": {
    "name": "ipython",
    "version": 3
   },
   "file_extension": ".py",
   "mimetype": "text/x-python",
   "name": "python",
   "nbconvert_exporter": "python",
   "pygments_lexer": "ipython3",
   "version": "3.10.8"
  }
 },
 "nbformat": 4,
 "nbformat_minor": 5
}
